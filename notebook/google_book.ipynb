{
 "cells": [
  {
   "cell_type": "code",
   "execution_count": null,
   "id": "9c5ed7a3-f1ec-4dd2-b4c9-71e161d847cf",
   "metadata": {},
   "outputs": [],
   "source": [
    "import pandas as pd\n",
    "from bs4 import BeautifulSoup\n",
    "import requests\n",
    "import csv\n",
    "import time"
   ]
  },
  {
   "cell_type": "code",
   "execution_count": null,
   "id": "00a995d0-854e-4acf-ba5d-ba448e86219e",
   "metadata": {},
   "outputs": [],
   "source": [
    "url = \"https://www.googleapis.com/books/v1/volumes\"\n",
    "api_key = \"YOUR_API_KEY\"  # removed for security\n",
    "genres = [\"Mystery\", \"Romance\", \"History\", \"Science\", \"Fantasy\", \"Technology\", \"Art\", \"Music\", \"Business\", \"Health\"]\n",
    "special_query = \"harry potter\"\n",
    "books_per_request = 40\n",
    "max_books = 5000\n",
    "books = []"
   ]
  },
  {
   "cell_type": "code",
   "execution_count": null,
   "id": "939591b5-86ce-4fa0-b7db-4280e2918546",
   "metadata": {},
   "outputs": [],
   "source": [
    "for genre in genres:\n",
    "    for start in range(0, 200, books_per_request):\n",
    "        print(f\"Genre: {genre}, Books {start + 1} to {start + books_per_request}...\")\n",
    "\n",
    "        params = {\n",
    "            \"q\": f\"subject:{genre}\",\n",
    "            \"startIndex\": start,\n",
    "            \"maxResults\": books_per_request,\n",
    "            \"langRestrict\": \"en\",\n",
    "            \"key\": API_KEY\n",
    "        }\n",
    "\n",
    "        response = requests.get(url, params=params)\n",
    "        if response.status_code != 200:\n",
    "            print(f\"Error {response.status_code} at startIndex {start}\")\n",
    "            continue\n",
    "\n",
    "        data = response.json()\n",
    "        for item in data.get(\"items\", []):\n",
    "            info = item.get(\"volumeInfo\", {})\n",
    "            image_links = info.get(\"imageLinks\", {})\n",
    "\n",
    "            # Basic required fields: title and authors only\n",
    "            if \"title\" not in info or \"authors\" not in info:\n",
    "                continue\n",
    "\n",
    "            book = {\n",
    "                \"title\": info.get(\"title\", \"\").strip(),\n",
    "                \"authors\": \", \".join(info.get(\"authors\", [])).strip(),\n",
    "                \"description\": info.get(\"description\", \"\"),\n",
    "                \"category\": \", \".join(info.get(\"categories\", [])),\n",
    "                \"averageRating\": info.get(\"averageRating\", \"\"),\n",
    "                \"ratingsCount\": info.get(\"ratingsCount\", \"\"),\n",
    "                \"thumbnail\": image_links.get(\"thumbnail\", \"\")\n",
    "            }\n",
    "\n",
    "            books.append(book)\n",
    "\n",
    "            if len(books) >= max_books:\n",
    "                break\n",
    "\n",
    "        if len(books) >= max_books:\n",
    "            break\n",
    "\n",
    "        time.sleep(1)\n",
    "\n",
    "    if len(books) >= max_books:\n",
    "        break\n",
    "\n",
    "print(\"Adding Harry Potter books...\")\n",
    "for start in range(0, 40, books_per_request):\n",
    "    params = {\n",
    "        \"q\": special_query,\n",
    "        \"startIndex\": start,\n",
    "        \"maxResults\": books_per_request,\n",
    "        \"langRestrict\": \"en\",\n",
    "        \"key\": API_KEY\n",
    "    }\n",
    "\n",
    "    response = requests.get(url, params=params)\n",
    "    if response.status_code != 200:\n",
    "        continue\n",
    "\n",
    "    data = response.json()\n",
    "    for item in data.get(\"items\", []):\n",
    "        info = item.get(\"volumeInfo\", {})\n",
    "        image_links = info.get(\"imageLinks\", {})\n",
    "\n",
    "        if \"title\" not in info or \"authors\" not in info:\n",
    "            continue\n",
    "\n",
    "        book = {\n",
    "            \"title\": info.get(\"title\", \"\").strip(),\n",
    "            \"authors\": \", \".join(info.get(\"authors\", [])).strip(),\n",
    "            \"description\": info.get(\"description\", \"\"),\n",
    "            \"category\": \", \".join(info.get(\"categories\", [])),\n",
    "            \"averageRating\": info.get(\"averageRating\", \"\"),\n",
    "            \"ratingsCount\": info.get(\"ratingsCount\", \"\"),\n",
    "            \"thumbnail\": image_links.get(\"thumbnail\", \"\")\n",
    "        }\n",
    "\n",
    "        books.append(book)\n",
    "\n",
    "    time.sleep(1)\n",
    "\n",
    "df = pd.DataFrame(books)\n",
    "df.drop_duplicates(subset=[\"title\", \"authors\"], inplace=True)\n",
    "df.reset_index(drop=True, inplace=True)\n",
    "\n",
    "print(f\"\\n Total books collected (including incomplete & Harry Potter): {len(df)}\")"
   ]
  },
  {
   "cell_type": "code",
   "execution_count": null,
   "id": "0946dcb2-42ff-463e-917c-dabe6193d5ef",
   "metadata": {},
   "outputs": [],
   "source": [
    "df"
   ]
  },
  {
   "cell_type": "code",
   "execution_count": null,
   "id": "b25ef4e1-5288-4095-94bf-ae400b4540de",
   "metadata": {},
   "outputs": [],
   "source": [
    "# Export to CSV\n",
    "df.to_csv(\"google_books_data.csv\", index=False, encoding=\"utf-8-sig\")\n",
    "print(\"✅ Data saved to google_books_data.csv\")"
   ]
  },
  {
   "cell_type": "code",
   "execution_count": null,
   "id": "7d71e051-9f93-4dfd-b863-eb9536cbb078",
   "metadata": {},
   "outputs": [],
   "source": [
    "df.isnull().sum()"
   ]
  },
  {
   "cell_type": "code",
   "execution_count": null,
   "id": "370cc668-0617-40a7-9ed8-3d83a709915f",
   "metadata": {},
   "outputs": [],
   "source": []
  }
 ],
 "metadata": {
  "kernelspec": {
   "display_name": "Python 3 (ipykernel)",
   "language": "python",
   "name": "python3"
  },
  "language_info": {
   "codemirror_mode": {
    "name": "ipython",
    "version": 3
   },
   "file_extension": ".py",
   "mimetype": "text/x-python",
   "name": "python",
   "nbconvert_exporter": "python",
   "pygments_lexer": "ipython3",
   "version": "3.12.2"
  }
 },
 "nbformat": 4,
 "nbformat_minor": 5
}

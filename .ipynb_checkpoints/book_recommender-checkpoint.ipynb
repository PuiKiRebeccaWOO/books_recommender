{
 "cells": [
  {
   "cell_type": "code",
   "execution_count": null,
   "id": "27524023-9baf-436d-9e5e-80b71fa1db55",
   "metadata": {},
   "outputs": [],
   "source": [
    "# 📚 Basic Libraries\n",
    "import numpy as np \n",
    "import pandas as pd\n",
    "import warnings\n",
    "\n",
    "# 📊 Visualizations\n",
    "import matplotlib.pyplot as plt\n",
    "import seaborn as sns\n",
    "import plotly.graph_objects as go\n",
    "\n",
    "# 🤖 Machine Learning\n",
    "from sklearn.preprocessing import StandardScaler, LabelEncoder\n",
    "from sklearn.feature_extraction.text import TfidfVectorizer\n",
    "from sklearn.cluster import KMeans\n",
    "from scipy.sparse import hstack\n",
    "from sklearn.metrics import silhouette_score"
   ]
  },
  {
   "cell_type": "code",
   "execution_count": null,
   "id": "d60d3ac2-49af-47f5-9c3b-845d0b773a5c",
   "metadata": {},
   "outputs": [],
   "source": [
    "df= pd.read_csv(\"combined_data.csv\")"
   ]
  },
  {
   "cell_type": "code",
   "execution_count": null,
   "id": "29cc63ec-8476-480b-9a78-a020e30429e5",
   "metadata": {},
   "outputs": [],
   "source": [
    "df"
   ]
  },
  {
   "cell_type": "markdown",
   "id": "f1eebbd3-7781-4d51-93de-e530122339b1",
   "metadata": {},
   "source": [
    "### Clean and preprocess the data"
   ]
  },
  {
   "cell_type": "code",
   "execution_count": null,
   "id": "763d94da-c991-4b6d-a9a4-5d9503bcd8c0",
   "metadata": {},
   "outputs": [],
   "source": [
    "# Keep only rows with title and description\n",
    "df_cleaned = df.dropna(subset=[\"title\", \"description\"]).copy()"
   ]
  },
  {
   "cell_type": "code",
   "execution_count": null,
   "id": "ee396259-0120-4f2e-abdd-474d9b7e81bb",
   "metadata": {},
   "outputs": [],
   "source": [
    "# Fill missing values in 'authors', 'category' with 'Unknown'\n",
    "df_cleaned[\"authors\"] = df_cleaned[\"authors\"].fillna(\"Unknown\")\n",
    "df_cleaned[\"category\"] = df_cleaned[\"category\"].fillna(\"Unknown\")\n",
    "\n",
    "# Fill missing averageRating and ratingsCount with 0 (if not available, assume unrated)\n",
    "df_cleaned[\"averageRating\"] = df_cleaned[\"averageRating\"].fillna(0)\n",
    "df_cleaned[\"ratingsCount\"] = df_cleaned[\"ratingsCount\"].fillna(0)\n",
    "\n",
    "# Ensure numeric columns are correctly typed\n",
    "df_cleaned[\"averageRating\"] = pd.to_numeric(df_cleaned[\"averageRating\"], errors=\"coerce\")\n",
    "df_cleaned[\"ratingsCount\"] = pd.to_numeric(df_cleaned[\"ratingsCount\"], errors=\"coerce\")"
   ]
  },
  {
   "cell_type": "code",
   "execution_count": null,
   "id": "0b0f62d4-16b8-483a-8e48-072da1c1b984",
   "metadata": {},
   "outputs": [],
   "source": [
    "# Show how many entries remain and some basic stats\n",
    "df_cleaned.info(), df_cleaned.describe(include=\"all\").T"
   ]
  },
  {
   "cell_type": "markdown",
   "id": "8ed97c30-1616-48a8-b101-70221005b56e",
   "metadata": {},
   "source": [
    "### Feature Engineering for Clustering"
   ]
  },
  {
   "cell_type": "code",
   "execution_count": null,
   "id": "b39b5a84-a2cf-460d-86ea-36cb1cf3fd4e",
   "metadata": {},
   "outputs": [],
   "source": [
    "# Convert 'description' to TF-IDF vectors (limit vocab for speed)\n",
    "# books with similar themes should be grouped\n",
    "# converts all book descriptions into numerical vectors\n",
    "tfidf = TfidfVectorizer(stop_words=\"english\", max_features=200)\n",
    "tfidf_matrix = tfidf.fit_transform(df_cleaned[\"description\"])"
   ]
  },
  {
   "cell_type": "code",
   "execution_count": null,
   "id": "a22238af-4aa2-4370-9131-12dd2937a66b",
   "metadata": {},
   "outputs": [],
   "source": [
    "# Normalize numerical features (rating and ratingsCount)\n",
    "scaler = StandardScaler()\n",
    "numeric_features = df_cleaned[[\"averageRating\", \"ratingsCount\"]]\n",
    "numeric_scaled = scaler.fit_transform(numeric_features)"
   ]
  },
  {
   "cell_type": "code",
   "execution_count": null,
   "id": "39361253-22a8-4619-9589-84ad8ea35b23",
   "metadata": {},
   "outputs": [],
   "source": [
    "# Combine text features with numeric ones\n",
    "combined_features = hstack([tfidf_matrix, numeric_scaled])"
   ]
  },
  {
   "cell_type": "code",
   "execution_count": null,
   "id": "c9361879-b409-4ce7-853e-9862f5d9b732",
   "metadata": {},
   "outputs": [],
   "source": [
    "# Apply KMeans clustering\n",
    "kmeans = KMeans(n_clusters=5, random_state=42)\n",
    "df_cleaned[\"cluster\"] = kmeans.fit_predict(combined_features)"
   ]
  },
  {
   "cell_type": "code",
   "execution_count": null,
   "id": "2083220e-be82-4d68-b86b-1d80453fbe40",
   "metadata": {},
   "outputs": [],
   "source": [
    "# Show how many books in each cluster\n",
    "df_cleaned[\"cluster\"].value_counts().sort_index()"
   ]
  },
  {
   "cell_type": "code",
   "execution_count": null,
   "id": "d09fa7ae-8941-4903-a0ed-8c05d02950bb",
   "metadata": {},
   "outputs": [],
   "source": [
    "df_cleaned.head()"
   ]
  },
  {
   "cell_type": "markdown",
   "id": "00fd11ad-ac35-4c21-899a-1a2ba7026b49",
   "metadata": {},
   "source": [
    "### Elbow method for optimal k"
   ]
  },
  {
   "cell_type": "code",
   "execution_count": null,
   "id": "d989f836-769e-4b67-9c62-3ec6733e7f18",
   "metadata": {},
   "outputs": [],
   "source": [
    "inertias = []\n",
    "range_of_clusters = range(1, 11)\n",
    "\n",
    "for k in range_of_clusters:\n",
    "    model = KMeans(n_clusters=k, random_state=42)\n",
    "    model.fit(combined_features)\n",
    "    inertias.append(model.inertia_)\n",
    "\n",
    "inertias"
   ]
  },
  {
   "cell_type": "code",
   "execution_count": null,
   "id": "e2304adc-d956-43e9-84b1-101097fcc6d8",
   "metadata": {},
   "outputs": [],
   "source": [
    "fig = go.Figure()\n",
    "fig.add_trace(go.Scatter(x=list(range_of_clusters), y=inertias, mode='lines+markers', name='Inertia'))\n",
    "fig.update_layout(title='Elbow Method For Optimal k',\n",
    "                  xaxis_title='Number of clusters, k',\n",
    "                  yaxis_title='Inertia',\n",
    "                  xaxis=dict(tickmode='array', tickvals=list(range_of_clusters)))\n",
    "fig.show()"
   ]
  },
  {
   "cell_type": "markdown",
   "id": "c827d14b-0c5c-4793-80ac-b28e5d7a047f",
   "metadata": {},
   "source": [
    "### Silhouette Score"
   ]
  },
  {
   "cell_type": "code",
   "execution_count": null,
   "id": "1d881d1c-cd99-4df2-8f7d-a3712e7bdd82",
   "metadata": {},
   "outputs": [],
   "source": [
    "silhouette_scores = []\n",
    "for k in range_of_clusters:\n",
    "    kmeans = KMeans(n_clusters=k, random_state=42)\n",
    "    labels = kmeans.fit_predict(combined_features)\n",
    "    \n",
    "    # Only calculate score if more than 1 cluster\n",
    "    if len(set(labels)) > 1:\n",
    "        score = silhouette_score(combined_features, labels)\n",
    "    else:\n",
    "        score = 0  # or use None if you prefer\n",
    "\n",
    "    silhouette_scores.append(score)"
   ]
  },
  {
   "cell_type": "code",
   "execution_count": null,
   "id": "1fbfe37f-d8ce-4347-bd21-6204de663bf5",
   "metadata": {},
   "outputs": [],
   "source": [
    "silhouette_scores"
   ]
  },
  {
   "cell_type": "code",
   "execution_count": null,
   "id": "068a9b8e-6ea7-4938-b466-e52f7c31cbc3",
   "metadata": {},
   "outputs": [],
   "source": [
    "plt.subplot(1, 2, 2)\n",
    "plt.plot(range_of_clusters, silhouette_scores, marker='o', color='green')\n",
    "plt.title('Silhouette Score vs. k')\n",
    "plt.xlabel('Number of clusters (k)')\n",
    "plt.ylabel('Silhouette Score')"
   ]
  },
  {
   "cell_type": "markdown",
   "id": "3d38969a-2bb9-4403-8dc6-6b766c4ee369",
   "metadata": {},
   "source": [
    "### Set k = 4"
   ]
  },
  {
   "cell_type": "code",
   "execution_count": null,
   "id": "2cf3a03c-b232-4f59-a83f-a3ab5f40c769",
   "metadata": {},
   "outputs": [],
   "source": [
    "kmeans = KMeans(n_clusters=4, random_state=42)\n",
    "df_cleaned[\"cluster\"] = kmeans.fit_predict(combined_features)"
   ]
  },
  {
   "cell_type": "code",
   "execution_count": null,
   "id": "47b1f389-87da-4912-acf7-befc2da8df19",
   "metadata": {},
   "outputs": [],
   "source": [
    "df_cleaned"
   ]
  },
  {
   "cell_type": "code",
   "execution_count": null,
   "id": "6df98b6d-fc5f-4d7e-9c06-fa9145fb48a5",
   "metadata": {},
   "outputs": [],
   "source": [
    "df_cleaned[\"cluster\"].value_counts().sort_index()"
   ]
  },
  {
   "cell_type": "markdown",
   "id": "a2680758-e7ba-4df6-9090-a99043d4aa63",
   "metadata": {},
   "source": [
    "### Book recommender"
   ]
  },
  {
   "cell_type": "code",
   "execution_count": null,
   "id": "f7620cce-c3d9-4be3-a7a8-a4835f74a1f7",
   "metadata": {},
   "outputs": [],
   "source": [
    "def recommend_similar_books_kmeans(book_index, df, cluster_col=\"cluster\", n=10):\n",
    "    cluster_label = df.loc[book_index, cluster_col]\n",
    "    similar_books = df[(df[cluster_col] == cluster_label) & (df.index != book_index)]\n",
    "    return similar_books.sample(min(n, len(similar_books)), random_state=42)"
   ]
  },
  {
   "cell_type": "code",
   "execution_count": null,
   "id": "e0594d05-f830-47e4-bb02-1472257b5e98",
   "metadata": {},
   "outputs": [],
   "source": [
    "book_index = 10\n",
    "recommended_books_kmeans = recommend_similar_books_kmeans(book_index, df_cleaned)\n",
    "recommended_books_kmeans[[\"title\", \"authors\", \"category\", \"description\", \"averageRating\", \"ratingsCount\"]]"
   ]
  },
  {
   "cell_type": "code",
   "execution_count": null,
   "id": "08a962d7-403a-425f-a38e-6313de9a80a1",
   "metadata": {},
   "outputs": [],
   "source": []
  }
 ],
 "metadata": {
  "kernelspec": {
   "display_name": "Python 3 (ipykernel)",
   "language": "python",
   "name": "python3"
  },
  "language_info": {
   "codemirror_mode": {
    "name": "ipython",
    "version": 3
   },
   "file_extension": ".py",
   "mimetype": "text/x-python",
   "name": "python",
   "nbconvert_exporter": "python",
   "pygments_lexer": "ipython3",
   "version": "3.12.2"
  }
 },
 "nbformat": 4,
 "nbformat_minor": 5
}
